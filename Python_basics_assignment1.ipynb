{
  "nbformat": 4,
  "nbformat_minor": 0,
  "metadata": {
    "colab": {
      "provenance": []
    },
    "kernelspec": {
      "name": "python3",
      "display_name": "Python 3"
    },
    "language_info": {
      "name": "python"
    }
  },
  "cells": [
    {
      "cell_type": "markdown",
      "source": [
        "# 1. What is Python, and why is it popular ?\n",
        "\n",
        "**Ans)** Python is a high-level, interpreted, and general-purpose programming language known for its simplicity and readability. The reason for its popularity is it provides a rich set of built-in and third-party libraries that make it widely used in areas such as web development, data science, artificial intelligence, automation, and more. So, python is more popular for it's simplicity and use cases."
      ],
      "metadata": {
        "id": "jAEiSGs6rIgG"
      }
    },
    {
      "cell_type": "markdown",
      "source": [
        "#2) What is an interpreter in Python?\n",
        "\n",
        "**Ans)** The python interpreter is the program that reads the execute the python code. unlike compiled languages(like c++), it is an interpreted language, it means it executes the code line by line instead off all at once.\n",
        "It also makes debugging easy."
      ],
      "metadata": {
        "id": "VXfaokU9sUoA"
      }
    },
    {
      "cell_type": "markdown",
      "source": [
        "#3) What are pre-defined keywords in Python ?\n",
        "\n",
        "**Ans)** Pre-defined keywords in python are like reserved key words in python. They have different meaning in python. we can't use them as names of variables, function names and class names or identifiers as they define the structure and the behaviour of python code."
      ],
      "metadata": {
        "id": "IVHoc96htZHc"
      }
    },
    {
      "cell_type": "markdown",
      "source": [
        "#4) Can keywords be used as variable names?\n",
        "\n",
        "**Ans)** No, we can't use keywords as variable names.It will lead to syntax error."
      ],
      "metadata": {
        "id": "KburMgJeu5yp"
      }
    },
    {
      "cell_type": "code",
      "execution_count": null,
      "metadata": {
        "colab": {
          "base_uri": "https://localhost:8080/",
          "height": 106
        },
        "id": "mhVDNYdhrDDU",
        "outputId": "72b494f6-ab19-4d65-91b6-c77c691f1941"
      },
      "outputs": [
        {
          "output_type": "error",
          "ename": "SyntaxError",
          "evalue": "invalid syntax (ipython-input-3746892994.py, line 2)",
          "traceback": [
            "\u001b[0;36m  File \u001b[0;32m\"/tmp/ipython-input-3746892994.py\"\u001b[0;36m, line \u001b[0;32m2\u001b[0m\n\u001b[0;31m    if = 3\u001b[0m\n\u001b[0m       ^\u001b[0m\n\u001b[0;31mSyntaxError\u001b[0m\u001b[0;31m:\u001b[0m invalid syntax\n"
          ]
        }
      ],
      "source": [
        "#example for fourth question:\n",
        "if = 3\n",
        "if"
      ]
    },
    {
      "cell_type": "markdown",
      "source": [
        "# #5) What is mutability in Python ?\n",
        "**Ans)** Mutability means changing the data in a container without changing the orginal address(Id) of the container which contains the original data.\n",
        "In simple words ability to change the data in a container like appending, removing, and changing the values in that data container or vaible."
      ],
      "metadata": {
        "id": "8TgtH9Gxvcvm"
      }
    },
    {
      "cell_type": "markdown",
      "source": [
        "#6) Why are lists mutable, but tuples are immutable?\n",
        "\n",
        "**Ans)** That is the design philosophy of the python desginer to use them according to the situation.\n",
        "\n",
        "purpose of lists mutablity: Lists are meant for dynamic collections — things you want to grow, shrink, or modify.\n",
        "\n",
        "purpose of tuples: - uples are designed for fixed groupings of heterogeneous data — like coordinates, config pairs, or dictionary keys\n",
        "\n",
        "\n",
        "once created the memory layout of the tuple is fixed. No element can be added, deleted or changed."
      ],
      "metadata": {
        "id": "vK3e3r3fwIJC"
      }
    },
    {
      "cell_type": "markdown",
      "source": [
        "#7) What is the difference between “==” and “is” operators in Python?\n",
        "\n",
        "**Ans)** '==' operator;- it compares the value and return true if the values are same else it will return false.\n",
        "\n",
        "'is' operator:- It will compare the references of those variables.\n",
        "If the references are different then it return false.\n"
      ],
      "metadata": {
        "id": "LkhKFO_oxZEp"
      }
    },
    {
      "cell_type": "code",
      "source": [
        "#example for 7th question\n",
        "x = [1, 2, 3]\n",
        "y = [1, 2, 3]\n",
        "z = x\n",
        "\n",
        "print(x == y)\n",
        "print(x is y)\n",
        "print(x is z)"
      ],
      "metadata": {
        "id": "xP5oAjvpvcJ6",
        "colab": {
          "base_uri": "https://localhost:8080/"
        },
        "outputId": "5402287f-5865-467a-a30b-5ee5d669bf9a"
      },
      "execution_count": 2,
      "outputs": [
        {
          "output_type": "stream",
          "name": "stdout",
          "text": [
            "True\n",
            "False\n",
            "True\n"
          ]
        }
      ]
    },
    {
      "cell_type": "markdown",
      "source": [
        "#8) What are logical operators in Python\n",
        "\n",
        "**ans)** logical operators are used to combine conditional statements (expressions that return either True or False). They help control the flow of decision-making in programs.\n",
        "examples: 'and', 'or' and 'not'.\n",
        "* 'and': and logical opertor return true when both the both are true. else it will return false.\n",
        "* 'or': or logical operator returns true if any of the consition is true.\n",
        "* 'not': not operator work opositelly if a condition is 'false' it will return 'true' and vice versa."
      ],
      "metadata": {
        "id": "M-NV6DLGQXNs"
      }
    },
    {
      "cell_type": "markdown",
      "source": [
        "#9)What is type casting in Python?\n",
        "**ans)**\n",
        "* type casting it is also known as type conversion.\n",
        "* It is used to convert the data from one data type to another data type.\n",
        "Example:-\n",
        "* we can convert the int value into string by using str() key function.\n",
        "* We can convert the int value to float and float value to int using float() and int() functions respectively.\n",
        "\n",
        "There are two types of type casting:\n",
        "1. implicit type casting.\n",
        "2. explicit type casting."
      ],
      "metadata": {
        "id": "NzZR3IQnTGmI"
      }
    },
    {
      "cell_type": "code",
      "source": [
        "#Example for the 9th question\n",
        "# String to int\n",
        "num_str = \"100\"\n",
        "num_int = int(num_str)\n",
        "print(num_int + 50)   # 150\n",
        "\n",
        "# Float to int\n",
        "f = 9.8\n",
        "print(int(f))   # 9 (decimal part is discarded)\n",
        "\n",
        "# Int to string\n",
        "x = 25\n",
        "print(\"The number is \" + str(x))  # The number is 25\n"
      ],
      "metadata": {
        "colab": {
          "base_uri": "https://localhost:8080/"
        },
        "id": "HTFRh7qBQWeI",
        "outputId": "e6a467b9-d3c4-429f-88df-a7de55b5ff8e"
      },
      "execution_count": 3,
      "outputs": [
        {
          "output_type": "stream",
          "name": "stdout",
          "text": [
            "150\n",
            "9\n",
            "The number is 25\n"
          ]
        }
      ]
    },
    {
      "cell_type": "markdown",
      "source": [
        "#10) What is the difference between implicit and explicit type casting?\n",
        "**Ans)**\n",
        "Implicit type casting:-\n",
        "1. Implicit type casting mean it is done by teh programmer manually to convert from one data type to another data type\n",
        "2. Programmer needs to write the code for it as per requirements.\n",
        "\n",
        "Explicit type casting:-\n",
        "1. Explicit type casting mean, it is done the python itself according to the situation.\n",
        "2. Programmer no needs to write the code for it.\n",
        "3. Python itself converts the data from one data type to another data type."
      ],
      "metadata": {
        "id": "r7mFYqIVUZT_"
      }
    },
    {
      "cell_type": "markdown",
      "source": [
        "#11) What is the purpose of conditional statements in Python?\n",
        "**ans)**\n",
        "The purpose of conditional statements in python is to make decisions in a program by executing different blocks of code depending on whether a condition is True or False.\n",
        "according to our requirements we can use our conditional statements."
      ],
      "metadata": {
        "id": "BgWAJM5_VVJM"
      }
    },
    {
      "cell_type": "code",
      "source": [
        "#for the clear explanation for 11th question\n",
        "x = 10\n",
        "if x > 5:\n",
        "    print(\"x is greater than 5\")\n",
        "x = 3\n",
        "if x > 5:\n",
        "    print(\"x is greater than 5\")\n",
        "else:\n",
        "    print(\"x is less than or equal to 5\")\n"
      ],
      "metadata": {
        "colab": {
          "base_uri": "https://localhost:8080/"
        },
        "id": "2V8c1bVpV5gS",
        "outputId": "3d20c96c-c733-4837-b098-05c74415a1fb"
      },
      "execution_count": 4,
      "outputs": [
        {
          "output_type": "stream",
          "name": "stdout",
          "text": [
            "x is greater than 5\n",
            "x is less than or equal to 5\n"
          ]
        }
      ]
    },
    {
      "cell_type": "markdown",
      "source": [
        "#12) How does the elif statement work?\n",
        "**Ans)**\n",
        "Python checks the first if condition.\n",
        "\n",
        "* if it is True, that block runs and the rest (elif/else) is skipped.\n",
        "* If the if condition is False, Python moves to the first elif condition.\n",
        "* If this is True, that block runs and the rest is skipped.\n",
        "* If no if or elif conditions are True, the else block (if present) executes."
      ],
      "metadata": {
        "id": "xaVbkie-WEnF"
      }
    },
    {
      "cell_type": "code",
      "source": [
        "#for 12th question\n",
        "marks = 85\n",
        "\n",
        "if marks >= 90:\n",
        "    print(\"Grade A\")\n",
        "elif marks >= 75:\n",
        "    print(\"Grade B\")\n",
        "elif marks >= 60:\n",
        "    print(\"Grade C\")\n",
        "else:\n",
        "    print(\"Grade D\")\n"
      ],
      "metadata": {
        "colab": {
          "base_uri": "https://localhost:8080/"
        },
        "id": "vo6MjDbLWXGK",
        "outputId": "18e6fa8e-efdc-4fb3-8656-c025bf85f814"
      },
      "execution_count": 5,
      "outputs": [
        {
          "output_type": "stream",
          "name": "stdout",
          "text": [
            "Grade B\n"
          ]
        }
      ]
    },
    {
      "cell_type": "markdown",
      "source": [
        "#13) what is the difference between for loop and while loop?\n",
        "**ans)**\n",
        "1. For loop:-\n",
        "* Used when you know how many times you want to repeat a block of code.\n",
        "* it also used to iterate over sequences like lists, strings, tuples, dictionaries, or ranges.\n",
        "\n",
        "2. while loop:-\n",
        "* Used when you don't know in advance how many times to loop.\n",
        "* Keeps running as long as the condition is True."
      ],
      "metadata": {
        "id": "Vq29ubxGW5uZ"
      }
    },
    {
      "cell_type": "markdown",
      "source": [
        "#14) Describe a scenario where a while loop is more suitable than a for loop?\n",
        "**ans)**\n",
        "* Suppose you are writing a program that asks a user to enter the correct password.\n",
        "* You don't know in advance how many times they will get it wrong.\n",
        "* the program should keep asking until they enter the right password.\n",
        "* we can also it scenarios like to know the length of linked list."
      ],
      "metadata": {
        "id": "ljAK5fxXXj24"
      }
    },
    {
      "cell_type": "markdown",
      "source": [
        "#**Practical questions**"
      ],
      "metadata": {
        "id": "sJa37wpaYV1B"
      }
    },
    {
      "cell_type": "code",
      "source": [
        "#1. Write a Python program to print \"Hello, World!\"\n",
        "print(\"Hello, World!\")\n"
      ],
      "metadata": {
        "colab": {
          "base_uri": "https://localhost:8080/"
        },
        "id": "iX_OnbyfWua8",
        "outputId": "85a5756b-c761-406e-bda0-da763095ff07"
      },
      "execution_count": 6,
      "outputs": [
        {
          "output_type": "stream",
          "name": "stdout",
          "text": [
            "Hello, World!\n"
          ]
        }
      ]
    },
    {
      "cell_type": "code",
      "source": [
        "#2. Write a Python program that displays your name and age.\n",
        "print(\"Name: J Yaswanth Reddy\\nage: 21\")"
      ],
      "metadata": {
        "colab": {
          "base_uri": "https://localhost:8080/"
        },
        "id": "1Y-GSGinZHHU",
        "outputId": "30698f7c-2322-4abb-b4ca-4c5c2294e313"
      },
      "execution_count": 8,
      "outputs": [
        {
          "output_type": "stream",
          "name": "stdout",
          "text": [
            "Name: J Yaswanth Reddy\n",
            "age: 21\n"
          ]
        }
      ]
    },
    {
      "cell_type": "code",
      "source": [
        "#3.  Write code to print all the pre-defined keywords in Python using the keyword library?\n",
        "import keyword\n",
        "print(\"list of keywords in python: \")\n",
        "for k in keyword.kwlist:\n",
        "  print(k, end=\", \")\n",
        "print(\"\")\n",
        "print(\"No. of keywords in python: \", len(keyword.kwlist))"
      ],
      "metadata": {
        "colab": {
          "base_uri": "https://localhost:8080/"
        },
        "id": "ePbS9IA4Zf9R",
        "outputId": "0bfa40af-b9fc-40ec-d55e-4f929c4d2730"
      },
      "execution_count": 15,
      "outputs": [
        {
          "output_type": "stream",
          "name": "stdout",
          "text": [
            "list of keywords in python: \n",
            "False, None, True, and, as, assert, async, await, break, class, continue, def, del, elif, else, except, finally, for, from, global, if, import, in, is, lambda, nonlocal, not, or, pass, raise, return, try, while, with, yield, \n",
            "No. of keywords in python:  35\n"
          ]
        }
      ]
    },
    {
      "cell_type": "code",
      "source": [
        "#4)  Write a program that checks if a given word is a Python keyword.\n",
        "list1 = list(keyword.kwlist)\n",
        "word = input(\"Enter a word: \")\n",
        "if word in list1:\n",
        "  print(\"this word is present in the python keywords.\")\n",
        "else:\n",
        "  print(\"this word is not present in the python keywords\")"
      ],
      "metadata": {
        "colab": {
          "base_uri": "https://localhost:8080/"
        },
        "id": "dhi1stM5aY5T",
        "outputId": "29776d4a-01db-443c-a18b-05d3204de951"
      },
      "execution_count": 17,
      "outputs": [
        {
          "output_type": "stream",
          "name": "stdout",
          "text": [
            "Enter a word: yes\n",
            "this word is not present in the python keywords\n"
          ]
        }
      ]
    },
    {
      "cell_type": "markdown",
      "source": [
        "5) Create a list and tuple in Python, and demonstrate how attempting to change an element works differently for each\n"
      ],
      "metadata": {
        "id": "mCrHzOuGbg3s"
      }
    },
    {
      "cell_type": "code",
      "source": [
        "# Creating a list and a tuple\n",
        "my_list = [10, 20, 30]\n",
        "my_tuple = (10, 20, 30)\n",
        "\n",
        "# Modifying the second element in the list\n",
        "my_list[1] = 99\n",
        "print(\"Modified list:\", my_list)\n",
        "\n",
        "# Attempting to modify the second element in the tuple\n",
        "try:\n",
        "    my_tuple[1] = 99\n",
        "except TypeError as e:\n",
        "    print(\"Error when modifying tuple:\", e)\n",
        "\n",
        "#tuple doesn't support item assignment as they are immutable inanture\n",
        "#list is mutable in nature so we can assign new values to it"
      ],
      "metadata": {
        "colab": {
          "base_uri": "https://localhost:8080/"
        },
        "id": "9A_MgXYqbkyC",
        "outputId": "764e4aec-2d56-47b4-d41a-c4ccf439f986"
      },
      "execution_count": 21,
      "outputs": [
        {
          "output_type": "stream",
          "name": "stdout",
          "text": [
            "Modified list: [10, 99, 30]\n",
            "Error when modifying tuple: 'tuple' object does not support item assignment\n"
          ]
        }
      ]
    },
    {
      "cell_type": "code",
      "source": [
        "#6) Write a function to demonstrate the behavior of mutable and immutable arguments\n",
        "#I have taken integer for immutable example and lists for immutable example\n",
        "def modify_args(num, num_list):\n",
        "  print(\"Inside function before modification:\")\n",
        "  print(\"num =\", num)\n",
        "  print(\"num_list =\", num_list)\n",
        "\n",
        "  #Attempt to modify both\n",
        "  num += 10              #Immutable: creates a new int object\n",
        "  num_list.append(99)    #Mutable: modifies the original list\n",
        "\n",
        "  print(\"Inside function after modification:\")\n",
        "  print(\"num =\", num)\n",
        "  print(\"num_list =\", num_list)\n",
        "\n",
        "#Initialize variables\n",
        "original_num = 5\n",
        "original_list = [1, 2, 3]\n",
        "\n",
        "#Call the function\n",
        "modify_args(original_num, original_list)\n",
        "\n",
        "#Check outside the function\n",
        "print(\"\\nOutside function after call:\")\n",
        "print(\"original_num =\", original_num)       #Unchanged\n",
        "print(\"original_list =\", original_list)     #Changed"
      ],
      "metadata": {
        "colab": {
          "base_uri": "https://localhost:8080/"
        },
        "id": "VSJP5a66co2-",
        "outputId": "9b8d39a7-2d49-4926-99bd-10aff17995e6"
      },
      "execution_count": 22,
      "outputs": [
        {
          "output_type": "stream",
          "name": "stdout",
          "text": [
            "Inside function before modification:\n",
            "num = 5\n",
            "num_list = [1, 2, 3]\n",
            "Inside function after modification:\n",
            "num = 15\n",
            "num_list = [1, 2, 3, 99]\n",
            "\n",
            "Outside function after call:\n",
            "original_num = 5\n",
            "original_list = [1, 2, 3, 99]\n"
          ]
        }
      ]
    },
    {
      "cell_type": "code",
      "source": [
        "#7) Write a program that performs basic arithmetic operations on two user-input numbers.\n",
        "num1 = int(input(\"enter the first integer value:- \"))\n",
        "num2 = int(input(\"enter the second integer value:- \"))\n",
        "result = num1+num2\n",
        "print(\"this the sum of those two integer values: \", result)"
      ],
      "metadata": {
        "colab": {
          "base_uri": "https://localhost:8080/"
        },
        "id": "T3o5P4y3eNRe",
        "outputId": "119bd384-b657-4b76-95cc-b96c7a04ddc4"
      },
      "execution_count": 24,
      "outputs": [
        {
          "output_type": "stream",
          "name": "stdout",
          "text": [
            "enter the first integer value:- 50\n",
            "enter the second integer value:- 101\n",
            "this the sum of those two integer values:  151\n"
          ]
        }
      ]
    },
    {
      "cell_type": "code",
      "source": [
        "#8) Write a program to demonstrate the use of logical operators\n",
        "a = True\n",
        "b = False\n",
        "print(\"a =\", a)\n",
        "print(\"b =\", b)\n",
        "#AND operator\n",
        "print(\"\\nUsing 'and' operator:\")\n",
        "print(\"a and b =\", a and b)\n",
        "#OR operator\n",
        "print(\"\\nUsing 'or' operator:\")\n",
        "print(\"a or b =\", a or b)\n",
        "#NOT operator\n",
        "print(\"\\nUsing 'not' operator:\")\n",
        "print(\"not a =\", not a)\n",
        "print(\"not b =\", not b)\n"
      ],
      "metadata": {
        "colab": {
          "base_uri": "https://localhost:8080/"
        },
        "id": "4QiGbDoUe-8L",
        "outputId": "38ce67b1-8e58-4dc6-b2b7-d8f1b7acf74d"
      },
      "execution_count": 25,
      "outputs": [
        {
          "output_type": "stream",
          "name": "stdout",
          "text": [
            "a = True\n",
            "b = False\n",
            "\n",
            "Using 'and' operator:\n",
            "a and b = False\n",
            "\n",
            "Using 'or' operator:\n",
            "a or b = True\n",
            "\n",
            "Using 'not' operator:\n",
            "not a = False\n",
            "not b = True\n"
          ]
        }
      ]
    },
    {
      "cell_type": "code",
      "source": [
        "#9) Write a Python program to convert user input from string to integer, float, and boolean types\n",
        "val1 = input(\"enter some value: \")\n",
        "#to convert from string to integer\n",
        "integer_val = int(val1)\n",
        "print(\"integer value: \", integer_val)\n",
        "#to convert from string to float\n",
        "float_val = float(val1)\n",
        "print(\"float value: \", float_val)\n",
        "#to convert from string to boolean value\n",
        "boolean_val = bool(val1)\n",
        "print(\"boolean value: \", boolean_val)"
      ],
      "metadata": {
        "colab": {
          "base_uri": "https://localhost:8080/"
        },
        "id": "ie0eL-Fnf3py",
        "outputId": "03638ef2-e568-4266-8f6a-0b65b990ecae"
      },
      "execution_count": 31,
      "outputs": [
        {
          "output_type": "stream",
          "name": "stdout",
          "text": [
            "enter some value: 56\n",
            "integer value:  56\n",
            "float value:  56.0\n",
            "boolean value:  True\n"
          ]
        }
      ]
    },
    {
      "cell_type": "code",
      "source": [
        "#10) Write code to demonstrate type casting with list elements.\n",
        "str_list = [\"10\", \"20\", \"30\", \"40\"]\n",
        "print(\"Original list (strings):\", str_list)\n",
        "int_list = [int(x) for x in str_list]\n",
        "print(\"After casting to integers:\", int_list)\n",
        "#Type casting to floats\n",
        "float_list = [float(x) for x in str_list]\n",
        "print(\"After casting to floats:\", float_list)\n",
        "#List with mixed data types\n",
        "mixed_list = [1, \"2\", 3.5, \"4.7\"]\n",
        "print(\"\\nOriginal mixed list:\", mixed_list)\n",
        "#Convert all elements to strings\n",
        "string_list = [str(x) for x in mixed_list]\n",
        "print(\"All elements as strings:\", string_list)\n",
        "# Convert string numbers to integers if possible\n",
        "int_casted = [int(float(x)) for x in string_list]\n",
        "print(\"All elements as integers:\", int_casted)\n"
      ],
      "metadata": {
        "colab": {
          "base_uri": "https://localhost:8080/"
        },
        "id": "GHbjiv7RgSsD",
        "outputId": "b4ba4570-2050-4221-9f82-ca8aaec2398a"
      },
      "execution_count": 32,
      "outputs": [
        {
          "output_type": "stream",
          "name": "stdout",
          "text": [
            "Original list (strings): ['10', '20', '30', '40']\n",
            "After casting to integers: [10, 20, 30, 40]\n",
            "After casting to floats: [10.0, 20.0, 30.0, 40.0]\n",
            "\n",
            "Original mixed list: [1, '2', 3.5, '4.7']\n",
            "All elements as strings: ['1', '2', '3.5', '4.7']\n",
            "All elements as integers: [1, 2, 3, 4]\n"
          ]
        }
      ]
    },
    {
      "cell_type": "code",
      "source": [
        "# 11. Write a program that checks if a number is positive, negative, or zero\n",
        "num = float(input(\"Enter a number: \"))\n",
        "if num > 0:\n",
        "    print(\"The number is positive.\")\n",
        "elif num < 0:\n",
        "    print(\"The number is negative.\")\n",
        "else:\n",
        "    print(\"The number is zero.\")"
      ],
      "metadata": {
        "colab": {
          "base_uri": "https://localhost:8080/"
        },
        "id": "1i5b4IQwhbx9",
        "outputId": "19eb3186-0572-43d4-afdb-ae26b09f0a64"
      },
      "execution_count": 34,
      "outputs": [
        {
          "output_type": "stream",
          "name": "stdout",
          "text": [
            "Enter a number: -65\n",
            "The number is negative.\n"
          ]
        }
      ]
    },
    {
      "cell_type": "code",
      "source": [
        "#12. Write a for loop to print numbers from 1 to 10.\n",
        "for i in range(1, 11):\n",
        "  print(i, end=\" \")"
      ],
      "metadata": {
        "colab": {
          "base_uri": "https://localhost:8080/"
        },
        "id": "Y6PWIVSRhp0M",
        "outputId": "10ba1847-9907-40d0-f0b1-8124e5a35320"
      },
      "execution_count": 36,
      "outputs": [
        {
          "output_type": "stream",
          "name": "stdout",
          "text": [
            "1 2 3 4 5 6 7 8 9 10 "
          ]
        }
      ]
    },
    {
      "cell_type": "code",
      "source": [
        "#13. Write a Python program to find the sum of all even numbers between 1 and 50.\n",
        "sum = 0\n",
        "for i in range(2, 51, 2):\n",
        "  sum += i\n",
        "print(\"sum of all even numbers between 1 and 50 is: \", sum)"
      ],
      "metadata": {
        "colab": {
          "base_uri": "https://localhost:8080/"
        },
        "id": "3ZiNRnnUh7KP",
        "outputId": "21e5db49-db5a-4402-b55b-6197f0fea6f1"
      },
      "execution_count": 37,
      "outputs": [
        {
          "output_type": "stream",
          "name": "stdout",
          "text": [
            "sum of all even numbers between 1 and 50 is:  650\n"
          ]
        }
      ]
    },
    {
      "cell_type": "code",
      "source": [
        "#14. Write a program to reverse a string using a while loop.\n",
        "s1 = input(\"enter a string: \")\n",
        "i = len(s1) - 1\n",
        "while i >= 0:\n",
        "  print(s1[i], end=\"\")\n",
        "  i -= 1"
      ],
      "metadata": {
        "colab": {
          "base_uri": "https://localhost:8080/"
        },
        "id": "yy6QqHTiiB5O",
        "outputId": "da21fe89-09a4-4022-99db-f1b09726291b"
      },
      "execution_count": 38,
      "outputs": [
        {
          "output_type": "stream",
          "name": "stdout",
          "text": [
            "enter a string: yaswanth\n",
            "htnawsay"
          ]
        }
      ]
    },
    {
      "cell_type": "code",
      "source": [
        "#15. Write a Python program to calculate the factorial of a number provided by the user using a while loop.\n",
        "num = int(input(\"enter a value to find the factorial:\"))\n",
        "fact = 1\n",
        "\n",
        "if num>=0:\n",
        "  while num>0:\n",
        "    fact = fact * num\n",
        "    num = num-1\n",
        "  print(f\"factorial of the number is: \", fact)\n",
        "\n",
        "else:\n",
        "  print(\"The number you enter is less than zero the  factorial value of negative value is undefined!!!\")"
      ],
      "metadata": {
        "colab": {
          "base_uri": "https://localhost:8080/"
        },
        "id": "6PfJ1TjqiUJ-",
        "outputId": "1f9455f2-0412-43f8-e11f-06156043a7de"
      },
      "execution_count": 47,
      "outputs": [
        {
          "output_type": "stream",
          "name": "stdout",
          "text": [
            "enter a value to find the factorial:25\n",
            "factorial of the number is:  15511210043330985984000000\n"
          ]
        }
      ]
    },
    {
      "cell_type": "code",
      "source": [],
      "metadata": {
        "id": "pUoRkOdVj0V5"
      },
      "execution_count": null,
      "outputs": []
    }
  ]
}