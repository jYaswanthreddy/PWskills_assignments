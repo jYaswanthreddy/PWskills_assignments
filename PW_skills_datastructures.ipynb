{
  "nbformat": 4,
  "nbformat_minor": 0,
  "metadata": {
    "colab": {
      "provenance": []
    },
    "kernelspec": {
      "name": "python3",
      "display_name": "Python 3"
    },
    "language_info": {
      "name": "python"
    }
  },
  "cells": [
    {
      "cell_type": "markdown",
      "source": [
        "# **Theory questions**"
      ],
      "metadata": {
        "id": "43qsYAbOybC0"
      }
    },
    {
      "cell_type": "markdown",
      "source": [
        "#1) What are data structures, and why are they important?\n",
        "Ans)\n",
        "* Data structures are ways of organizing and storing data in a computer.\n",
        "* They help in efficient access, modification, and storage of data.\n",
        "* Examples include arrays, linked lists, stacks, queues, trees, and graphs.\n",
        "* They are important because they optimize algorithms and improve performance."
      ],
      "metadata": {
        "id": "GKqhFWXPyLLY"
      }
    },
    {
      "cell_type": "markdown",
      "source": [
        "# 2) Explain the difference between mutable and immutable data types with examples?\n",
        "Ans)\n",
        "* Mutable data types can be changed after creation (e.g., list, dict, set).\n",
        "* Immutable data types cannot be changed after creation (e.g., int, str, tuple).\n",
        "* Example: list1.append(5) changes the list (mutable).\n",
        "* Example: \"hello\".replace(\"h\",\"y\") creates a new string (immutable)."
      ],
      "metadata": {
        "id": "yJpzBKRFyg1t"
      }
    },
    {
      "cell_type": "markdown",
      "source": [
        "#3) What are the main differences between lists and tuples in Python?\n",
        "Ans)\n",
        "* Mutability: Lists are mutable, Tuples are immutable.\n",
        "* Syntax: Lists use [], Tuples use ().\n",
        "* Performance: Tuples are faster and use less memory than lists.\n",
        "* Use case: Lists for dynamic data, Tuples for fixed/constant data"
      ],
      "metadata": {
        "id": "UCp0ZwqNygyB"
      }
    },
    {
      "cell_type": "markdown",
      "source": [
        "#4) Describe how dictionaries store data?\n",
        "\n",
        "Ans)\n",
        "* Dictionaries store data as key-value pairs.\n",
        "* They use a hashing mechanism to map keys to memory locations.\n",
        "* Keys must be unique and immutable, values can be any type.\n",
        "* Access, insertion, and deletion are generally O(1) operations."
      ],
      "metadata": {
        "id": "00IHmlcYzSiS"
      }
    },
    {
      "cell_type": "markdown",
      "source": [
        "#5) Why might you use a set instead of a list in Python?\n",
        "Ans)\n",
        "* we use a set when you want unique elements and don't care about order.\n",
        "* Sets are also faster than lists for checking if an item exists."
      ],
      "metadata": {
        "id": "FuMo1IRGz3Ob"
      }
    },
    {
      "cell_type": "markdown",
      "source": [
        "#6) What is a string in Python, and how is it different from a list?\n",
        "Ans)\n",
        "* A string in Python is a sequence of characters inside quotes (\"hello\").\n",
        "* It is immutable (cannot be changed).\n",
        "* A list is a collection of items (numbers, strings, etc.) and is mutable.\n",
        "* Strings store text, lists store mixed or multiple data types."
      ],
      "metadata": {
        "id": "2YcR1o6Z0PtF"
      }
    },
    {
      "cell_type": "markdown",
      "source": [
        "#7) How do tuples ensure data integrity in Python?\n",
        "Ans)\n",
        "* Tuples are immutable, meaning once created their values cannot be changed.\n",
        "* This prevents accidental modification of data.\n",
        "* They are often used for fixed collections of items.\n",
        "* This immutability helps ensure data integrity and safety."
      ],
      "metadata": {
        "id": "BlIUQcJs0l6q"
      }
    },
    {
      "cell_type": "markdown",
      "source": [
        "#8) What is a hash table, and how does it relate to dictionaries in Python?\n",
        "Ans)\n",
        "* A hash table stores data in key-value pairs using a hash function.\n",
        "* The hash function maps keys to specific memory locations.\n",
        "* Python dictionaries are built on hash tables.\n",
        "* This makes lookups, insertions, and deletions very fast."
      ],
      "metadata": {
        "id": "W3OJ2_FY08Ci"
      }
    },
    {
      "cell_type": "markdown",
      "source": [
        "#9) Can lists contain different data types in Python?\n",
        "Ans)\n",
        "* Yes, lists can contain different data types in Python.\n",
        "Example: [1, \"hello\", 3.5, True] is valid.\n",
        "* You can mix numbers, strings, booleans, and even other lists."
      ],
      "metadata": {
        "id": "PLjY0Tze1Y7w"
      }
    },
    {
      "cell_type": "markdown",
      "source": [
        "#10) Explain why strings are immutable in Python?\n",
        "Ans)\n",
        "* Strings are immutable in Python to ensure data safety and consistency.\n",
        "* Changing a string would require creating a new memory location anyway.\n",
        "* Immutability allows hashing, making strings usable as dictionary keys.\n",
        "* It also improves performance and memory efficiency."
      ],
      "metadata": {
        "id": "IXlQLqCL11X5"
      }
    },
    {
      "cell_type": "markdown",
      "source": [
        "#11) What advantages do dictionaries offer over lists for certain tasks?\n",
        "Ans)\n",
        "* Dictionaries allow fast lookup by key instead of searching through all items.\n",
        "* They store data as key-value pairs, which is more meaningful than index-based access.\n",
        "* Insertion and deletion are generally faster than lists.\n",
        "* Useful when you need associative or labeled data storage."
      ],
      "metadata": {
        "id": "72nEzv1y2NS4"
      }
    },
    {
      "cell_type": "markdown",
      "source": [
        "#12) Describe a scenario where using a tuple would be preferable over a list?\n",
        "Ans)\n",
        "* Use a tuple when the data should not change, like coordinates (x, y) or RGB color (255, 0, 0).\n",
        "* Tuples are faster and use less memory than lists.\n",
        "* They can be used as dictionary keys because they are immutable.\n",
        "* Good for fixed configuration or constant values."
      ],
      "metadata": {
        "id": "Ygm58RtN2lLA"
      }
    },
    {
      "cell_type": "markdown",
      "source": [
        "#13) How do sets handle duplicate values in Python?\n",
        "Ans)\n",
        "* Sets automatically remove duplicate values.\n",
        "* Only unique elements are stored.\n",
        "* Example: set([1,2,2,3]) becomes {1, 2, 3}.\n",
        "* Duplicates are ignored without errors."
      ],
      "metadata": {
        "id": "kqraY0893EHm"
      }
    },
    {
      "cell_type": "markdown",
      "source": [
        "#14)  How does the “in” keyword work differently for lists and dictionaries?\n",
        "Ans)\n",
        "* For lists, in checks if a value exists in the list.\n",
        "* For dictionaries, in checks if a key exists, not the value.\n",
        "* Example: 3 in [1,2,3] → True; 'a' in {'a':1} → True.\n",
        "* Checking values in a dict requires .values()."
      ],
      "metadata": {
        "id": "GZWqnEjL3Zxk"
      }
    },
    {
      "cell_type": "markdown",
      "source": [
        "#15) Can you modify the elements of a tuple? Explain why or why not?\n",
        "Ans)\n",
        "* No, you cannot modify elements of a tuple.\n",
        "* Tuples are immutable, so their content cannot be changed after creation.\n",
        "* This ensures data safety and consistency.\n",
        "* To change data, you must create a new tuple."
      ],
      "metadata": {
        "id": "DGlt0lVU31ca"
      }
    },
    {
      "cell_type": "markdown",
      "source": [
        "#16) What is a nested dictionary, and give an example of its use case?\n",
        "Ans)\n",
        "* A nested dictionary is a dictionary that contains another dictionary as a value.\n",
        "* Example: students = {\"Alice\": {\"age\": 20, \"grade\": \"A\"}, \"Bob\": {\"age\": 22, \"grade\": \"B\"}}\n",
        "* Use case: Storing complex structured data, like user profiles or JSON-like data."
      ],
      "metadata": {
        "id": "MHrgbhiL4Suc"
      }
    },
    {
      "cell_type": "markdown",
      "source": [
        "#17) Describe the time complexity of accessing elements in a dictionary?\n",
        "Ans)\n",
        "* Accessing elements in a dictionary is O(1) on average.\n",
        "* This is because dictionaries use hash tables to directly locate keys.\n",
        "* In rare cases of hash collisions, it can degrade to O(n).\n",
        "* Overall, lookups are much faster than searching in a list."
      ],
      "metadata": {
        "id": "doMHOxWu55Kz"
      }
    },
    {
      "cell_type": "markdown",
      "source": [
        "#18) In what situations are lists preferred over dictionaries?\n",
        "Ans)\n",
        "* Lists are preferred when order matters or you need indexed access.\n",
        "* Useful for sequential data like queues, stacks, or arrays.\n",
        "* Better when keys are not needed and you just need to store items.\n",
        "* Example: storing daily temperatures or a series of numbers."
      ],
      "metadata": {
        "id": "Wr4i8LW86Y1P"
      }
    },
    {
      "cell_type": "markdown",
      "source": [
        "#19) Why are dictionaries considered unordered, and how does that affect data retrieval?\n",
        "Ans)\n",
        "* Dictionaries are considered unordered because items are stored by hash, not by position (Python 3.7+ preserves insertion order, but conceptually unordered).\n",
        "* You cannot rely on index to access items.\n",
        "* Data retrieval is done via keys, not positions.\n",
        "* This allows fast lookups regardless of insertion order."
      ],
      "metadata": {
        "id": "lWI0jUyo6shn"
      }
    },
    {
      "cell_type": "markdown",
      "source": [
        "#18) Explain the difference between a list and a dictionary in terms of data retrieval\n",
        "Ans)\n",
        "* Lists retrieve data by index, e.g., mylist[0].\n",
        "* Dictionaries retrieve data by key, e.g., mydict[\"name\"].\n",
        "* List access is O(1) for index, but searching by value is slower O(n).\n",
        "* Dictionary access is generally O(1) using keys, faster for lookups."
      ],
      "metadata": {
        "id": "T8e4htFS7Dp9"
      }
    },
    {
      "cell_type": "markdown",
      "source": [
        "#**Practical questions**\n"
      ],
      "metadata": {
        "id": "dNo-U_7z7_BL"
      }
    },
    {
      "cell_type": "code",
      "source": [
        "# 1) Write a code to create a string with your name and print it?\n",
        "name = \"Yaswanth Reddt\"\n",
        "print(name)"
      ],
      "metadata": {
        "colab": {
          "base_uri": "https://localhost:8080/"
        },
        "id": "y-uxmSy58IyI",
        "outputId": "7cba081e-3531-4707-8ab9-35cf526fa21d"
      },
      "execution_count": 1,
      "outputs": [
        {
          "output_type": "stream",
          "name": "stdout",
          "text": [
            "Yaswanth Reddt\n"
          ]
        }
      ]
    },
    {
      "cell_type": "code",
      "source": [
        "# 2) Write a code to find the length of the string \"Hello World\"?\n",
        "string = \"Hello World\"\n",
        "print(len(string))\n"
      ],
      "metadata": {
        "colab": {
          "base_uri": "https://localhost:8080/"
        },
        "id": "TXz45O118Wm3",
        "outputId": "0cb91d0d-e37d-4138-84eb-1e7f0de58c69"
      },
      "execution_count": 2,
      "outputs": [
        {
          "output_type": "stream",
          "name": "stdout",
          "text": [
            "11\n"
          ]
        }
      ]
    },
    {
      "cell_type": "code",
      "source": [
        "# 3) Write a code to slice the first 3 characters from the string \"Python Programming\"?\n",
        "string = \"Python Programming\"\n",
        "print(string[:3])\n"
      ],
      "metadata": {
        "colab": {
          "base_uri": "https://localhost:8080/"
        },
        "id": "onJ6UmQc8ecC",
        "outputId": "04dde54c-e24c-4107-f65b-75df67188cb4"
      },
      "execution_count": 3,
      "outputs": [
        {
          "output_type": "stream",
          "name": "stdout",
          "text": [
            "Pyt\n"
          ]
        }
      ]
    },
    {
      "cell_type": "code",
      "source": [
        "# 4) Write a code to convert the string \"hello\" to uppercase?\n",
        "string = \"hello\"\n",
        "upper_case_string = string.upper()\n",
        "print(upper_case_string)"
      ],
      "metadata": {
        "colab": {
          "base_uri": "https://localhost:8080/"
        },
        "id": "WtpytZNj8tvH",
        "outputId": "4dd3fbcf-50dc-47f9-859f-126a2356ffcf"
      },
      "execution_count": 4,
      "outputs": [
        {
          "output_type": "stream",
          "name": "stdout",
          "text": [
            "HELLO\n"
          ]
        }
      ]
    },
    {
      "cell_type": "code",
      "source": [
        "# 5) Write a code to replace the word \"apple\" with \"orange\" in the string \"I like apple\"?\n",
        "string = \"I like apple\"\n",
        "new_string = string.replace(\"apple\", \"orange\")\n",
        "print(new_string)"
      ],
      "metadata": {
        "colab": {
          "base_uri": "https://localhost:8080/"
        },
        "id": "aYe2qUT69DDJ",
        "outputId": "c7cb8eac-a37b-467d-bd88-5170616f33f5"
      },
      "execution_count": 5,
      "outputs": [
        {
          "output_type": "stream",
          "name": "stdout",
          "text": [
            "I like orange\n"
          ]
        }
      ]
    },
    {
      "cell_type": "code",
      "source": [
        "# 6)  Write a code to create a list with numbers 1 to 5 and print it?\n",
        "list = [1, 2, 3, 4, 5]\n",
        "print(list)"
      ],
      "metadata": {
        "colab": {
          "base_uri": "https://localhost:8080/"
        },
        "id": "QCB6pgs39VKa",
        "outputId": "505068aa-5091-45f0-f07c-d4cf1fcbda35"
      },
      "execution_count": 6,
      "outputs": [
        {
          "output_type": "stream",
          "name": "stdout",
          "text": [
            "[1, 2, 3, 4, 5]\n"
          ]
        }
      ]
    },
    {
      "cell_type": "code",
      "source": [
        "# 7) Write a code to append the number 10 to the list [1, 2, 3, 4]?\n",
        "list1 = [1,2,3,4]\n",
        "list1.append(10)\n",
        "print(list1)"
      ],
      "metadata": {
        "colab": {
          "base_uri": "https://localhost:8080/"
        },
        "id": "E95oSwwG9d9K",
        "outputId": "eba9cc26-2c41-45ce-c631-38f6acce8823"
      },
      "execution_count": 7,
      "outputs": [
        {
          "output_type": "stream",
          "name": "stdout",
          "text": [
            "[1, 2, 3, 4, 10]\n"
          ]
        }
      ]
    },
    {
      "cell_type": "code",
      "source": [
        "# 8)  Write a code to remove the number 3 from the list [1, 2, 3, 4, 5]?\n",
        "list2 = [1, 2, 3, 4, 5]\n",
        "list2.remove(3)\n",
        "list2"
      ],
      "metadata": {
        "colab": {
          "base_uri": "https://localhost:8080/"
        },
        "id": "haWpUeTJ9qo0",
        "outputId": "4db6855c-f4c2-4a00-d729-5e6c02c1129f"
      },
      "execution_count": 8,
      "outputs": [
        {
          "output_type": "execute_result",
          "data": {
            "text/plain": [
              "[1, 2, 4, 5]"
            ]
          },
          "metadata": {},
          "execution_count": 8
        }
      ]
    },
    {
      "cell_type": "code",
      "source": [
        "# 9) Write a code to access the second element in the list ['a', 'b', 'c', 'd']?\n",
        "list3 = ['a', 'b', 'c', 'd']\n",
        "list3[1] #indexing starts from zero so the second element will at index number 1\n"
      ],
      "metadata": {
        "colab": {
          "base_uri": "https://localhost:8080/",
          "height": 35
        },
        "id": "VP0KD2GY-Ah6",
        "outputId": "2d3bc370-b754-4ddc-ecd1-c35c6eb2ae5d"
      },
      "execution_count": 9,
      "outputs": [
        {
          "output_type": "execute_result",
          "data": {
            "text/plain": [
              "'b'"
            ],
            "application/vnd.google.colaboratory.intrinsic+json": {
              "type": "string"
            }
          },
          "metadata": {},
          "execution_count": 9
        }
      ]
    },
    {
      "cell_type": "code",
      "source": [
        "# 10) Write a code to reverse the list [10, 20, 30, 40, 50]?\n",
        "list4 = [10, 20, 30, 40, 50]\n",
        "reversed_list = list4[::-1]\n",
        "print(reversed_list)\n"
      ],
      "metadata": {
        "colab": {
          "base_uri": "https://localhost:8080/"
        },
        "id": "7IHW7yFS-hzW",
        "outputId": "2098f873-cd05-4693-bbc1-3b0e39f9095a"
      },
      "execution_count": 10,
      "outputs": [
        {
          "output_type": "stream",
          "name": "stdout",
          "text": [
            "[50, 40, 30, 20, 10]\n"
          ]
        }
      ]
    },
    {
      "cell_type": "code",
      "source": [
        "# 11) Write a code to create a tuple with the elements 100, 200, 300 and print it.\n",
        "tuple1 = (100, 200, 300)\n",
        "print(tuple1)"
      ],
      "metadata": {
        "colab": {
          "base_uri": "https://localhost:8080/"
        },
        "id": "oJlpPbvO-zpU",
        "outputId": "ae4b80df-c089-42f5-efc4-93f24649db8a"
      },
      "execution_count": 11,
      "outputs": [
        {
          "output_type": "stream",
          "name": "stdout",
          "text": [
            "(100, 200, 300)\n"
          ]
        }
      ]
    },
    {
      "cell_type": "code",
      "source": [
        "# 12) Write a code to access the second-to-last element of the tuple ('red', 'green', 'blue', 'yellow').\n",
        "tuple2 = ('red', 'green', 'blue', 'yellow')\n",
        "tuple2[-2]\n"
      ],
      "metadata": {
        "colab": {
          "base_uri": "https://localhost:8080/",
          "height": 35
        },
        "id": "MepKBEqk-9Dc",
        "outputId": "9ffbe456-7e84-45b6-b53e-101671928689"
      },
      "execution_count": 12,
      "outputs": [
        {
          "output_type": "execute_result",
          "data": {
            "text/plain": [
              "'blue'"
            ],
            "application/vnd.google.colaboratory.intrinsic+json": {
              "type": "string"
            }
          },
          "metadata": {},
          "execution_count": 12
        }
      ]
    },
    {
      "cell_type": "code",
      "source": [
        "# 13)  Write a code to find the minimum number in the tuple (10, 20, 5, 15).\n",
        "tuple3 = (10, 20, 5, 15)\n",
        "min(tuple3)"
      ],
      "metadata": {
        "colab": {
          "base_uri": "https://localhost:8080/"
        },
        "id": "aevfJ3uz_Imi",
        "outputId": "a688d4ab-3ad6-450a-aa2a-7cd348ab0b8f"
      },
      "execution_count": 13,
      "outputs": [
        {
          "output_type": "execute_result",
          "data": {
            "text/plain": [
              "5"
            ]
          },
          "metadata": {},
          "execution_count": 13
        }
      ]
    },
    {
      "cell_type": "code",
      "source": [
        "# 14) Write a code to find the index of the element \"cat\" in the tuple ('dog', 'cat', 'rabbit').\n",
        "tuple4 = ('dog', 'cat', 'rabbit')\n",
        "tuple4.index('cat')"
      ],
      "metadata": {
        "colab": {
          "base_uri": "https://localhost:8080/"
        },
        "id": "JIzoiiKA_g1d",
        "outputId": "fe4730f5-f347-472f-c9ff-eefcd2e4da78"
      },
      "execution_count": 14,
      "outputs": [
        {
          "output_type": "execute_result",
          "data": {
            "text/plain": [
              "1"
            ]
          },
          "metadata": {},
          "execution_count": 14
        }
      ]
    },
    {
      "cell_type": "code",
      "source": [
        "# 15) Write a code to create a tuple containing three different fruits and check if \"kiwi\" is in it.\n",
        "tuple5 = (\"Mango\", \"apple\", \"kiwi\")\n",
        "present = -1\n",
        "for fruit in tuple5:\n",
        "  if fruit == \"kiwi\":\n",
        "    present = present + 1\n",
        "    print(\"kiwi is in the tuple\")\n",
        "  else:\n",
        "    continue\n",
        "\n",
        "if present < 0:\n",
        "  print(\"kiwi is not in the tuple\")"
      ],
      "metadata": {
        "colab": {
          "base_uri": "https://localhost:8080/"
        },
        "id": "5TlQWvcS_zwa",
        "outputId": "ea687c6a-7b05-4104-a6f2-b19f0de84d6a"
      },
      "execution_count": 15,
      "outputs": [
        {
          "output_type": "stream",
          "name": "stdout",
          "text": [
            "kiwi is in the tuple\n"
          ]
        }
      ]
    },
    {
      "cell_type": "code",
      "source": [
        "# 16)  Write a code to create a set with the elements 'a', 'b', 'c' and print it\n",
        "set1 = {'a', 'b', 'c'}\n",
        "print(set1)"
      ],
      "metadata": {
        "colab": {
          "base_uri": "https://localhost:8080/"
        },
        "id": "hargY2ypBFT3",
        "outputId": "db0a7ea2-a865-4115-dd02-238fc469634e"
      },
      "execution_count": 16,
      "outputs": [
        {
          "output_type": "stream",
          "name": "stdout",
          "text": [
            "{'a', 'b', 'c'}\n"
          ]
        }
      ]
    },
    {
      "cell_type": "code",
      "source": [
        "# 17) Write a code to clear all elements from the set {1, 2, 3, 4, 5}.\n",
        "set2 = {1, 2, 3, 4, 5}\n",
        "set2.clear()\n",
        "set2"
      ],
      "metadata": {
        "colab": {
          "base_uri": "https://localhost:8080/"
        },
        "id": "efnpFalNBZau",
        "outputId": "20e8191b-49f4-46e5-80e1-0346f6ff3fd5"
      },
      "execution_count": 17,
      "outputs": [
        {
          "output_type": "execute_result",
          "data": {
            "text/plain": [
              "set()"
            ]
          },
          "metadata": {},
          "execution_count": 17
        }
      ]
    },
    {
      "cell_type": "code",
      "source": [
        "# 18) Write a code to remove the element 4 from the set {1, 2, 3, 4}\n",
        "set3 = {1, 2, 3, 4}\n",
        "set3.remove(4)\n",
        "set3"
      ],
      "metadata": {
        "colab": {
          "base_uri": "https://localhost:8080/"
        },
        "id": "3aKjhFkRBlwz",
        "outputId": "3055f0b4-4c35-4236-ecb2-2b5d30dff8dd"
      },
      "execution_count": 18,
      "outputs": [
        {
          "output_type": "execute_result",
          "data": {
            "text/plain": [
              "{1, 2, 3}"
            ]
          },
          "metadata": {},
          "execution_count": 18
        }
      ]
    },
    {
      "cell_type": "code",
      "source": [
        "#19. Write a code to find the union of two sets {1, 2, 3} and {3, 4, 5}?\n",
        "set4 = {1, 2, 3}\n",
        "set5 = {3, 4, 5}\n",
        "set4.union(set5)"
      ],
      "metadata": {
        "colab": {
          "base_uri": "https://localhost:8080/"
        },
        "id": "6xROmQ8qojDX",
        "outputId": "a74d179a-63e6-4ed0-d8b3-b69a788179a9"
      },
      "execution_count": 19,
      "outputs": [
        {
          "output_type": "execute_result",
          "data": {
            "text/plain": [
              "{1, 2, 3, 4, 5}"
            ]
          },
          "metadata": {},
          "execution_count": 19
        }
      ]
    },
    {
      "cell_type": "code",
      "source": [
        "#20. Write a code to find the intersection of two sets {1, 2, 3} and {2, 3, 4}.\n",
        "set6 = {1, 2, 3}\n",
        "set7 = {2, 3, 4}\n",
        "set6.intersection(set7)"
      ],
      "metadata": {
        "colab": {
          "base_uri": "https://localhost:8080/"
        },
        "id": "t449KGu3o2Sh",
        "outputId": "6840e078-62bd-493d-f3ea-37094e65b4f2"
      },
      "execution_count": 20,
      "outputs": [
        {
          "output_type": "execute_result",
          "data": {
            "text/plain": [
              "{2, 3}"
            ]
          },
          "metadata": {},
          "execution_count": 20
        }
      ]
    },
    {
      "cell_type": "code",
      "source": [
        "#21. Write a code to create a dictionary with the keys \"name\", \"age\", and \"city\", and print it?\n",
        "dict = {\"name\": \"Yaswanth\", \"age\": 21, \"city\": \"Hyderabad\"}\n",
        "print(dict)"
      ],
      "metadata": {
        "colab": {
          "base_uri": "https://localhost:8080/"
        },
        "id": "vX9V1qndo9cj",
        "outputId": "df34fdfd-7c65-4ad1-9970-4694daf79ff5"
      },
      "execution_count": 21,
      "outputs": [
        {
          "output_type": "stream",
          "name": "stdout",
          "text": [
            "{'name': 'Yaswanth', 'age': 21, 'city': 'Hyderabad'}\n"
          ]
        }
      ]
    },
    {
      "cell_type": "code",
      "source": [
        "#22. Write a code to add a new key-value pair \"country\": \"USA\" to the dictionary {'name': 'John', 'age': 25}.\n",
        "dict1 = {'name':'John', 'age':25}\n",
        "dict1['country'] = \"USA\"\n",
        "dict1"
      ],
      "metadata": {
        "colab": {
          "base_uri": "https://localhost:8080/"
        },
        "id": "MvxfVO6ApQlY",
        "outputId": "fe9173e0-58ad-4003-e54b-363daf8e4258"
      },
      "execution_count": 22,
      "outputs": [
        {
          "output_type": "execute_result",
          "data": {
            "text/plain": [
              "{'name': 'John', 'age': 25, 'country': 'USA'}"
            ]
          },
          "metadata": {},
          "execution_count": 22
        }
      ]
    },
    {
      "cell_type": "code",
      "source": [
        "#23. Write a code to access the value associated with the key \"name\" in the dictionary {'name': 'Alice', 'age': 30}.\n",
        "dict2 = {'name': 'Alice', 'age' : 30}\n",
        "dict2['name']"
      ],
      "metadata": {
        "colab": {
          "base_uri": "https://localhost:8080/",
          "height": 35
        },
        "id": "hvJoF2GJpslf",
        "outputId": "b885990e-31b6-4785-e927-9095541147aa"
      },
      "execution_count": 23,
      "outputs": [
        {
          "output_type": "execute_result",
          "data": {
            "text/plain": [
              "'Alice'"
            ],
            "application/vnd.google.colaboratory.intrinsic+json": {
              "type": "string"
            }
          },
          "metadata": {},
          "execution_count": 23
        }
      ]
    },
    {
      "cell_type": "code",
      "source": [
        "#24. Write a code to remove the key \"age\" from the dictionary {'name': 'Bob', 'age': 22, 'city': 'New York'}\n",
        "dict3 = {'name': 'Bob', 'age': 22, 'city': 'New York'}\n",
        "dict3.pop('age')\n",
        "dict3"
      ],
      "metadata": {
        "colab": {
          "base_uri": "https://localhost:8080/"
        },
        "id": "qdZG7Od5p-Rm",
        "outputId": "8d21f72d-1960-428b-c7e2-faefd89c7267"
      },
      "execution_count": 24,
      "outputs": [
        {
          "output_type": "execute_result",
          "data": {
            "text/plain": [
              "{'name': 'Bob', 'city': 'New York'}"
            ]
          },
          "metadata": {},
          "execution_count": 24
        }
      ]
    },
    {
      "cell_type": "code",
      "source": [
        "#25. Write a code to check if the key \"city\" exists in the dictionary {'name': 'Alice', 'city': 'Paris'}.\n",
        "dict4 = {'name': 'Alice', 'city': 'Paris'}\n",
        "if 'city' in dict4:\n",
        "  print(\"city is present\")\n",
        "else:\n",
        "  print(\"city is not present\")"
      ],
      "metadata": {
        "colab": {
          "base_uri": "https://localhost:8080/"
        },
        "id": "-n0ca6QGqLUd",
        "outputId": "3964c38a-9f51-4930-ddca-82e633aa3500"
      },
      "execution_count": 25,
      "outputs": [
        {
          "output_type": "stream",
          "name": "stdout",
          "text": [
            "city is present\n"
          ]
        }
      ]
    },
    {
      "cell_type": "code",
      "source": [
        "#26. Write a code to create a list, a tuple, and a dictionary, and print them all.\n",
        "list1 = [1, \"yaswanth\", 34.2, True]\n",
        "tuple1 = (1, \"yaswanth\", 34.2, True)\n",
        "dict1 = {\"name\": \"yaswanth\", \"age\": 21}\n",
        "print(list1)\n",
        "print(tuple1)\n",
        "print(dict1)"
      ],
      "metadata": {
        "colab": {
          "base_uri": "https://localhost:8080/"
        },
        "id": "hPQOrHH2qWP8",
        "outputId": "2b9b4599-e191-40c1-c0fa-cb17dace5a06"
      },
      "execution_count": 26,
      "outputs": [
        {
          "output_type": "stream",
          "name": "stdout",
          "text": [
            "[1, 'yaswanth', 34.2, True]\n",
            "(1, 'yaswanth', 34.2, True)\n",
            "{'name': 'yaswanth', 'age': 21}\n"
          ]
        }
      ]
    },
    {
      "cell_type": "code",
      "source": [
        "#27. Write a code to create a list of 5 random numbers between 1 and 100, sort it in ascending order, and print the result.(replaced)\n",
        "import random\n",
        "list1 = [random.randint(1, 100) for i in range(5)]\n",
        "list1.sort()\n",
        "print(list1)"
      ],
      "metadata": {
        "colab": {
          "base_uri": "https://localhost:8080/"
        },
        "id": "ilBvVm4DqulF",
        "outputId": "5e7b20c4-cd17-48ec-ec1a-6bc364ba961d"
      },
      "execution_count": 27,
      "outputs": [
        {
          "output_type": "stream",
          "name": "stdout",
          "text": [
            "[2, 24, 26, 63, 64]\n"
          ]
        }
      ]
    },
    {
      "cell_type": "code",
      "source": [
        "#28. Write a code to create a list with strings and print the element at the third index\n",
        "list2 = [\"yaswanth\", \"Reddy\", \"Juturu\", \"Hyderbad\", \"India\"]\n",
        "list2[3]"
      ],
      "metadata": {
        "colab": {
          "base_uri": "https://localhost:8080/",
          "height": 35
        },
        "id": "u9ero6eurLAC",
        "outputId": "b8aad863-b858-49fd-8eb0-8d3a9789f03a"
      },
      "execution_count": 28,
      "outputs": [
        {
          "output_type": "execute_result",
          "data": {
            "text/plain": [
              "'Hyderbad'"
            ],
            "application/vnd.google.colaboratory.intrinsic+json": {
              "type": "string"
            }
          },
          "metadata": {},
          "execution_count": 28
        }
      ]
    },
    {
      "cell_type": "code",
      "source": [
        "#29. Write a code to combine two dictionaries into one and print the result.\n",
        "dict1 = {\"name\": \"yaswanth\", \"age\": 21}\n",
        "dict2 = {\"city\": \"Hyderabad\", \"country\": \"India\"}\n",
        "dict1.update(dict2)\n",
        "dict1"
      ],
      "metadata": {
        "colab": {
          "base_uri": "https://localhost:8080/"
        },
        "id": "JkbZ1mo7rtpL",
        "outputId": "845b8f57-32a3-46bd-f053-f7124b9feb33"
      },
      "execution_count": 29,
      "outputs": [
        {
          "output_type": "execute_result",
          "data": {
            "text/plain": [
              "{'name': 'yaswanth', 'age': 21, 'city': 'Hyderabad', 'country': 'India'}"
            ]
          },
          "metadata": {},
          "execution_count": 29
        }
      ]
    },
    {
      "cell_type": "code",
      "source": [
        "#30. Write a code to convert a list of strings into a set\n",
        "list1 = [\"yaswanth\", \"Reddy\", \"Juturu\", \"Hyderbad\", \"India\"]\n",
        "set1 = set(list1)\n",
        "set1"
      ],
      "metadata": {
        "colab": {
          "base_uri": "https://localhost:8080/"
        },
        "id": "E2zdhN9Ar7UJ",
        "outputId": "33144c38-3c11-4307-e681-bbcd79fab652"
      },
      "execution_count": 30,
      "outputs": [
        {
          "output_type": "execute_result",
          "data": {
            "text/plain": [
              "{'Hyderbad', 'India', 'Juturu', 'Reddy', 'yaswanth'}"
            ]
          },
          "metadata": {},
          "execution_count": 30
        }
      ]
    }
  ]
}